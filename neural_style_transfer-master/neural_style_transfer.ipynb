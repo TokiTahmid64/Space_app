{
  "nbformat": 4,
  "nbformat_minor": 0,
  "metadata": {
    "colab": {
      "name": "Untitled0.ipynb",
      "provenance": [],
      "private_outputs": true,
      "collapsed_sections": []
    },
    "kernelspec": {
      "name": "python3",
      "display_name": "Python 3"
    },
    "accelerator": "GPU"
  },
  "cells": [
    {
      "cell_type": "code",
      "metadata": {
        "id": "91EB5Uj-b-lN",
        "colab_type": "code",
        "colab": {}
      },
      "source": [
        "import matplotlib.pyplot as plt\n",
        "import matplotlib as mpl\n",
        "mpl.rcParams['figure.figsize'] = (10,10)\n",
        "mpl.rcParams['axes.grid'] = False\n",
        "\n",
        "import numpy as np\n",
        "from PIL import Image\n",
        "import time\n",
        "import functools\n",
        "import tensorflow as tf\n",
        "\n",
        "from tensorflow.keras.preprocessing import image as kp_image\n",
        "from tensorflow.keras import models \n",
        "from tensorflow.keras import losses\n",
        "from tensorflow.keras import layers\n",
        "from tensorflow.keras import backend as K\n",
        "\n"
      ],
      "execution_count": 63,
      "outputs": []
    },
    {
      "cell_type": "code",
      "metadata": {
        "id": "VZam16-iJRll",
        "colab_type": "code",
        "colab": {}
      },
      "source": [
        "content_path = '/content/WIN_20200714_10_41_07_Pro.jpg'\n",
        "style_path = '/content/style.jpg'"
      ],
      "execution_count": null,
      "outputs": []
    },
    {
      "cell_type": "code",
      "metadata": {
        "id": "NyCLYzJkJYDR",
        "colab_type": "code",
        "colab": {}
      },
      "source": [
        "def load_img(path_to_img):\n",
        "  max_dim = 512\n",
        "  img = Image.open(path_to_img)\n",
        "  long = max(img.size)\n",
        "  scale = max_dim/long\n",
        "  img = img.resize((round(img.size[0]*scale), round(img.size[1]*scale)), Image.ANTIALIAS)\n",
        "  \n",
        "  img = kp_image.img_to_array(img)\n",
        "  \n",
        "  # We need to broadcast the image array such that it has a batch dimension \n",
        "  img = np.expand_dims(img, axis=0)\n",
        "  return img\n",
        "\n",
        "def imshow(img, title=None):\n",
        "  # Remove the batch dimension\n",
        "  out = np.squeeze(img, axis=0)\n",
        "  # Normalize for display \n",
        "  out = out.astype('uint8')\n",
        "  plt.imshow(out)\n",
        "  if title is not None:\n",
        "    plt.title(title)\n",
        "  plt.imshow(out)\n",
        "\n",
        "def load_and_process_image(path_to_img):\n",
        "  img = load_img(path_to_img)\n",
        "  img = tf.keras.applications.vgg19.preprocess_input(img)\n",
        "  return img\n",
        "def deprocess_img(processed_img):\n",
        "  x = processed_img.copy()\n",
        "  if len(x.shape) == 4:\n",
        "    x = np.squeeze(x, 0)\n",
        "  assert len(x.shape) == 3, (\"Input to deprocess image must be an image of \"\n",
        "                             \"dimension [1, height, width, channel] or [height, width, channel]\")\n",
        "  if len(x.shape) != 3:\n",
        "    raise ValueError(\"Invalid input to deprocessing image\")\n",
        "  \n",
        "  # perform the inverse of the preprocessing step\n",
        "  x[:, :, 0] += 103.939\n",
        "  x[:, :, 1] += 116.779\n",
        "  x[:, :, 2] += 123.68\n",
        "  x = x[:, :, ::-1]\n",
        "\n",
        "  x = np.clip(x, 0, 255).astype('uint8')\n",
        "  return x"
      ],
      "execution_count": null,
      "outputs": []
    },
    {
      "cell_type": "code",
      "metadata": {
        "id": "APSUvR6wdltr",
        "colab_type": "code",
        "colab": {}
      },
      "source": [
        "vgg=keras.applications.vgg19.VGG19()"
      ],
      "execution_count": null,
      "outputs": []
    },
    {
      "cell_type": "code",
      "metadata": {
        "id": "CvUHPhr5eZV1",
        "colab_type": "code",
        "colab": {}
      },
      "source": [
        "import numpy as np\n",
        "import random"
      ],
      "execution_count": null,
      "outputs": []
    },
    {
      "cell_type": "code",
      "metadata": {
        "id": "4b3oLZNDJKPK",
        "colab_type": "code",
        "colab": {}
      },
      "source": [
        ""
      ],
      "execution_count": null,
      "outputs": []
    },
    {
      "cell_type": "code",
      "metadata": {
        "id": "YukIDpbIgiUK",
        "colab_type": "code",
        "colab": {}
      },
      "source": [
        "a=np.random.rand(5,5,3)"
      ],
      "execution_count": null,
      "outputs": []
    },
    {
      "cell_type": "code",
      "metadata": {
        "id": "JqPBfvbpgoC_",
        "colab_type": "code",
        "colab": {}
      },
      "source": [
        "a=tf.convert_to_tensor(a)"
      ],
      "execution_count": null,
      "outputs": []
    },
    {
      "cell_type": "code",
      "metadata": {
        "id": "te9jCCJUgv6I",
        "colab_type": "code",
        "colab": {}
      },
      "source": [
        "a"
      ],
      "execution_count": null,
      "outputs": []
    },
    {
      "cell_type": "code",
      "metadata": {
        "id": "TNOslSfThgba",
        "colab_type": "code",
        "colab": {}
      },
      "source": [
        "def fun(x):\n",
        "  channels = int(x.shape[-1])\n",
        "  print(channels)\n",
        "  a = tf.reshape(x, [-1, channels])\n",
        "  print(a.shape)\n",
        "   \n",
        "\n"
      ],
      "execution_count": null,
      "outputs": []
    },
    {
      "cell_type": "code",
      "metadata": {
        "id": "8wpoFUEghsga",
        "colab_type": "code",
        "colab": {}
      },
      "source": [
        "fun(a)"
      ],
      "execution_count": null,
      "outputs": []
    },
    {
      "cell_type": "code",
      "metadata": {
        "id": "Rx-KBuo_hy1L",
        "colab_type": "code",
        "colab": {}
      },
      "source": [
        ""
      ],
      "execution_count": null,
      "outputs": []
    },
    {
      "cell_type": "code",
      "metadata": {
        "id": "qKbV2KGBxdim",
        "colab_type": "code",
        "colab": {}
      },
      "source": [
        ""
      ],
      "execution_count": null,
      "outputs": []
    },
    {
      "cell_type": "code",
      "metadata": {
        "id": "S49ZLTUpxdzR",
        "colab_type": "code",
        "colab": {}
      },
      "source": [
        ""
      ],
      "execution_count": null,
      "outputs": []
    },
    {
      "cell_type": "code",
      "metadata": {
        "id": "zbTSmre2xd3U",
        "colab_type": "code",
        "colab": {}
      },
      "source": [
        "content_layers=['block5_conv2']\n",
        "style_layers=[\n",
        "              'block1_conv1',\n",
        "              'block2_conv1',\n",
        "              'block3_conv1',\n",
        "              'block4_conv1',\n",
        "              'block5_conv1'\n",
        "]\n",
        "num_content_layers=len(content_layers)\n",
        "num_style_layers=len(style_layers)"
      ],
      "execution_count": null,
      "outputs": []
    },
    {
      "cell_type": "code",
      "metadata": {
        "id": "EP1Rzzzd8yxe",
        "colab_type": "code",
        "colab": {}
      },
      "source": [
        "def get_model_():\n",
        "  \"\"\" Creates our model with access to intermediate layers. \n",
        "  \n",
        "  This function will load the VGG19 model and access the intermediate layers. \n",
        "  These layers will then be used to create a new model that will take input image\n",
        "  and return the outputs from these intermediate layers from the VGG model. \n",
        "  \n",
        "  Returns:\n",
        "    returns a keras model that takes image inputs and outputs the style and \n",
        "      content intermediate layers. \n",
        "  \"\"\"\n",
        "  # Load our model. We load pretrained VGG, trained on imagenet data\n",
        "  vgg = tf.keras.applications.vgg19.VGG19(include_top=False, weights='imagenet')\n",
        "  vgg.trainable = False\n",
        "  # Get output layers corresponding to style and content layers \n",
        "  style_outputs = [vgg.get_layer(name).output for name in style_layers]\n",
        "  content_outputs = [vgg.get_layer(name).output for name in content_layers]\n",
        "  model_outputs = style_outputs + content_outputs\n",
        "  # Build model \n",
        "  return models.Model(vgg.input, model_outputs)"
      ],
      "execution_count": null,
      "outputs": []
    },
    {
      "cell_type": "code",
      "metadata": {
        "id": "U2Zzm9zJyJON",
        "colab_type": "code",
        "colab": {}
      },
      "source": [
        "def get_model():\n",
        "  vgg=keras.applications.vgg19.VGG19(include_top=False,weights='imagenet')\n",
        "  vgg.trainable=False\n",
        "  style_outputs=[]\n",
        "  content_outputs=[]\n",
        "  for layers in style_layers:\n",
        "    style_outputs.append(vgg.get_layer(layers).output)\n",
        "  for layers in content_layers:\n",
        "    content_outputs.append(vgg.get_layer(layers).output)\n",
        "\n",
        "  model_output=style_outputs+content_outputs\n",
        "  return models.Model(vgg.input,model_output)\n",
        "\n",
        "\n"
      ],
      "execution_count": null,
      "outputs": []
    },
    {
      "cell_type": "code",
      "metadata": {
        "id": "Y3yfI7OjzRev",
        "colab_type": "code",
        "colab": {}
      },
      "source": [
        "def content_loss(content,generated):\n",
        "  return tf.reduce_mean(tf.square(content-generated))"
      ],
      "execution_count": null,
      "outputs": []
    },
    {
      "cell_type": "code",
      "metadata": {
        "id": "Zs_ex37izT59",
        "colab_type": "code",
        "colab": {}
      },
      "source": [
        "def gram_metrics(input):\n",
        "  channels=input.shape[-1]\n",
        "  input=tf.reshape(input,[-1,channels])\n",
        "  n=tf.shape(input)[0]\n",
        "  gram=tf.matmul(input,input,transpose_a=True)\n",
        "  return gram/tf.cast(n,dtype=np.float32)"
      ],
      "execution_count": null,
      "outputs": []
    },
    {
      "cell_type": "code",
      "metadata": {
        "id": "DsXu-YW533jX",
        "colab_type": "code",
        "colab": {}
      },
      "source": [
        "p=gram_metrics(a)"
      ],
      "execution_count": null,
      "outputs": []
    },
    {
      "cell_type": "code",
      "metadata": {
        "id": "h5uJFaS439Vk",
        "colab_type": "code",
        "colab": {}
      },
      "source": [
        "def style_loss(style,target_gram):\n",
        "  style_gram=gram_metrics(style)\n",
        "  return tf.reduce_mean(tf.square(style_gram-target_gram))"
      ],
      "execution_count": null,
      "outputs": []
    },
    {
      "cell_type": "code",
      "metadata": {
        "id": "5IP9cJ205S1Q",
        "colab_type": "code",
        "colab": {}
      },
      "source": [
        "style_loss(np.add(a,10),p)"
      ],
      "execution_count": null,
      "outputs": []
    },
    {
      "cell_type": "code",
      "metadata": {
        "id": "UYA-8H5b6yVs",
        "colab_type": "code",
        "colab": {}
      },
      "source": [
        "def get_features(model,content_path,style_path):\n",
        "  content_image=load_and_process_image(content_path)\n",
        "  style_image=load_and_process_image(style_path)\n",
        "  style_outputs=model(style_image)\n",
        "  content_outputs=model(content_image)\n",
        "  style_features=[]\n",
        "  content_features=[]\n",
        "  for style_layers in style_outputs[:num_style_layers]:\n",
        "    style_features.append(style_layers[0])\n",
        "  for content_layers in content_outputs[num_style_layers:]:\n",
        "    content_features.append(content_layers[0])\n",
        "\n",
        "  return style_features,content_features"
      ],
      "execution_count": null,
      "outputs": []
    },
    {
      "cell_type": "code",
      "metadata": {
        "id": "cP0qwzaJAiUC",
        "colab_type": "code",
        "colab": {}
      },
      "source": [
        "def compute_cost(model,loss_weights,init_image,gram_style_features,content_features):\n",
        "  style_weight,content_weight=loss_weights\n",
        "  model_output=model(init_image)\n",
        "  \n",
        "  init_style_output_features=model_output[:num_style_layers]\n",
        "  init_content_output_features=model_output[num_style_layers:]\n",
        "\n",
        "  style_score=0\n",
        "  content_score=0\n",
        "\n",
        "  weight_per_style_layer=1.0/float(num_style_layers)\n",
        "\n",
        "  for (output_per_layer,style_per_layer) in zip(init_style_output_features,gram_style_features):\n",
        "    style_score+=weight_per_style_layer*style_loss(output_per_layer,style_per_layer)\n",
        "\n",
        "  weights_per_content_layer=1.0/float(num_content_layers)\n",
        "\n",
        "  for(output_per_layer,content_per_layer) in zip(init_content_output_features,content_features):\n",
        "    content_score+=weights_per_content_layer*content_loss(output_per_layer,content_per_layer)\n",
        "\n",
        "  style_score*=style_weight\n",
        "  content_score*=content_weight\n",
        "\n",
        "  loss=style_score+content_score\n",
        "\n",
        "  return loss,style_score,content_score\n"
      ],
      "execution_count": null,
      "outputs": []
    },
    {
      "cell_type": "code",
      "metadata": {
        "id": "SjqBhokKL-o2",
        "colab_type": "code",
        "colab": {}
      },
      "source": [
        "def compute_grads(cfg):\n",
        "  with tf.GradientTape() as tape: \n",
        "    all_loss = compute_cost(**cfg)\n",
        "  # Compute gradients wrt input image\n",
        "  total_loss = all_loss[0]\n",
        "  return tape.gradient(total_loss, cfg['init_image']), all_loss"
      ],
      "execution_count": null,
      "outputs": []
    },
    {
      "cell_type": "code",
      "metadata": {
        "id": "T4ddXjvMGDMO",
        "colab_type": "code",
        "colab": {}
      },
      "source": [
        "import IPython.display\n",
        "\n",
        "def run_style_transfer(content_path, \n",
        "                       style_path,\n",
        "                       num_iterations=1000,\n",
        "                       content_weight=1e3, \n",
        "                       style_weight=1e-2): \n",
        "  # We don't need to (or want to) train any layers of our model, so we set their\n",
        "  # trainable to false. \n",
        "  model = get_model() \n",
        "  for layer in model.layers:\n",
        "    layer.trainable = False\n",
        "  \n",
        "  # Get the style and content feature representations (from our specified intermediate layers) \n",
        "  style_features, content_features = get_features(model, content_path, style_path)\n",
        "  gram_style_features = [gram_metrics(style_feature) for style_feature in style_features]\n",
        "  \n",
        "  # Set initial image\n",
        "  init_image = load_and_process_image(content_path)\n",
        "  init_image = tf.Variable(init_image, dtype=tf.float64)\n",
        "  # Create our optimizer\n",
        "  #opt = tf.train.AdamOptimizer(learning_rate=5, beta1=0.99, epsilon=1e-1)\n",
        "  opt=tf.keras.optimizers.Adam(learning_rate=5, beta_1=0.99, epsilon=1e-1)\n",
        "\n",
        "  # For displaying intermediate images \n",
        "  iter_count = 1\n",
        "  \n",
        "  # Store our best result\n",
        "  best_loss, best_img = float('inf'), None\n",
        "  \n",
        "  # Create a nice config \n",
        "  loss_weights = (style_weight, content_weight)\n",
        "  cfg = {\n",
        "      'model': model,\n",
        "      'loss_weights': loss_weights,\n",
        "      'init_image': init_image,\n",
        "      'gram_style_features': gram_style_features,\n",
        "      'content_features': content_features\n",
        "  }\n",
        "    \n",
        "  # For displaying\n",
        "  num_rows = 2\n",
        "  num_cols = 5\n",
        "  display_interval = num_iterations/(num_rows*num_cols)\n",
        "  start_time = time.time()\n",
        "  global_start = time.time()\n",
        "  \n",
        "  norm_means = np.array([103.939, 116.779, 123.68])\n",
        "  min_vals = -norm_means\n",
        "  max_vals = 255 - norm_means   \n",
        "  \n",
        "  imgs = []\n",
        "  for i in range(num_iterations):\n",
        "    grads, all_loss = compute_grads(cfg)\n",
        "    loss, style_score, content_score = all_loss\n",
        "    opt.apply_gradients([(grads, init_image)])\n",
        "    clipped = tf.clip_by_value(init_image, min_vals, max_vals)\n",
        "    init_image.assign(clipped)\n",
        "    end_time = time.time() \n",
        "    \n",
        "    if loss < best_loss:\n",
        "      # Update best loss and best image from total loss. \n",
        "      best_loss = loss\n",
        "      best_img = deprocess_img(init_image.numpy())\n",
        "\n",
        "    if i % display_interval== 0:\n",
        "      start_time = time.time()\n",
        "      \n",
        "      # Use the .numpy() method to get the concrete numpy array\n",
        "      plot_img = init_image.numpy()\n",
        "      plot_img = deprocess_img(plot_img)\n",
        "      imgs.append(plot_img)\n",
        "      IPython.display.clear_output(wait=True)\n",
        "      IPython.display.display_png(Image.fromarray(plot_img))\n",
        "      print('Iteration: {}'.format(i))        \n",
        "      print('Total loss: {:.4e}, ' \n",
        "            'style loss: {:.4e}, '\n",
        "            'content loss: {:.4e}, '\n",
        "            'time: {:.4f}s'.format(loss, style_score, content_score, time.time() - start_time))\n",
        "  print('Total time: {:.4f}s'.format(time.time() - global_start))\n",
        "  IPython.display.clear_output(wait=True)\n",
        "  plt.figure(figsize=(14,4))\n",
        "  for i,img in enumerate(imgs):\n",
        "      plt.subplot(num_rows,num_cols,i+1)\n",
        "      plt.imshow(img)\n",
        "      plt.xticks([])\n",
        "      plt.yticks([])\n",
        "      \n",
        "  return best_img, best_loss "
      ],
      "execution_count": null,
      "outputs": []
    },
    {
      "cell_type": "code",
      "metadata": {
        "id": "D9SfMLGPI_MC",
        "colab_type": "code",
        "colab": {}
      },
      "source": [
        "best, best_loss = run_style_transfer(content_path, \n",
        "                                     style_path, num_iterations=1000)"
      ],
      "execution_count": null,
      "outputs": []
    },
    {
      "cell_type": "code",
      "metadata": {
        "id": "Q9BV-FR8J5H1",
        "colab_type": "code",
        "colab": {}
      },
      "source": [
        "Image.fromarray(best)"
      ],
      "execution_count": null,
      "outputs": []
    },
    {
      "cell_type": "code",
      "metadata": {
        "id": "n2F1Kjq8O-Sp",
        "colab_type": "code",
        "colab": {}
      },
      "source": [
        "import matplotlib.image as mpimg\n",
        "image=['/content/WIN_20200714_10_41_07_Pro.jpg','/content/style.jpg']\n",
        "fig=plt.figure(figsize=(8, 8))\n",
        "columns = 2\n",
        "rows = 1\n",
        "for i in range(1, columns*rows +1):\n",
        "    img=mpimg.imread(image[i-1])\n",
        "    fig.add_subplot(rows, columns, i)\n",
        "    plt.imshow(img)\n",
        "plt.show()"
      ],
      "execution_count": null,
      "outputs": []
    },
    {
      "cell_type": "code",
      "metadata": {
        "id": "dBT4SaYFPO0B",
        "colab_type": "code",
        "colab": {}
      },
      "source": [
        "Image.fromarray(best)"
      ],
      "execution_count": null,
      "outputs": []
    },
    {
      "cell_type": "code",
      "metadata": {
        "id": "yt3K8r72QGoi",
        "colab_type": "code",
        "colab": {}
      },
      "source": [
        ""
      ],
      "execution_count": null,
      "outputs": []
    }
  ]
}